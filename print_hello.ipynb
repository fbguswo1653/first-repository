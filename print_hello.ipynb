{
 "cells": [
  {
   "cell_type": "code",
   "execution_count": null,
   "id": "c6573640",
   "metadata": {},
   "outputs": [],
   "source": [
    "def print_hello():\n",
    "   print(\"Hello World!!\")\n",
    "\n",
    "\n",
    " if __name__ == '__main__':\n",
    "    print_hello()"
   ]
  }
 ],
 "metadata": {
  "language_info": {
   "name": "python"
  }
 },
 "nbformat": 4,
 "nbformat_minor": 5
}
